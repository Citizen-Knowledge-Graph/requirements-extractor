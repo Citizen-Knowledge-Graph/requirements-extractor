# Step 1: Install Required Libraries
# Install required libraries
!pip install requests beautifulsoup4 spacy pandas
!python -m spacy download de_core_news_sm

# Step 2: Import Libraries and Load spaCy Model (since the website used in the example is in German, we use the 'de_core_news_sm model'

import requests
from bs4 import BeautifulSoup
import spacy

# Load spaCy's German model
nlp = spacy.load('de_core_news_sm')

# Step 3: Define URL and Fetch Webpage Content

# Define the URL of the website you want to scrape
url = 'https://www.arbeitsagentur.de/familie-und-kinder/kinderzuschlag-verstehen/kinderzuschlag-anspruch-hoehe-dauer'

# Send a GET request to the website
response = requests.get(url)

# Check if the request was successful
if response.status_code == 200:
    # Parse the content of the request with BeautifulSoup
    soup = BeautifulSoup(response.content, 'html.parser')
else:
    print(f'Failed to retrieve the webpage. Status code: {response.status_code}')

# Step 4: Extract Eligibility Conditions
# Extract content from specific HTML elements (modify selectors as necessary)
eligibility_conditions = []
for p in soup.select('div.edi-text p'):
    text = p.get_text(strip=True)
    eligibility_conditions.append(text)

# Print extracted conditions
for condition in eligibility_conditions:
    print(condition)

# Step 5: Convert Conditions to SHACL Format
# Define SHACL shapes template
shapes_template = """
@prefix sh: <http://www.w3.org/ns/shacl#> .
@prefix ex: <http://example.org/> .

ex:EligibilityShape a sh:NodeShape ;
    sh:targetClass ex:Person ;
    sh:property [
        sh:path ex:condition ;
        sh:description "{description}" ;
    ] .
"""

# Convert conditions to SHACL format
shacl_shapes = ""
for i, condition in enumerate(eligibility_conditions, start=1):
    shape = shapes_template.replace("{description}", condition)
    shacl_shapes += shape

# Print SHACL shapes
print(shacl_shapes)

# Save SHACL shapes to a file (optional)
shacl_file = 'eligibility_conditions_shacl.ttl'
with open(shacl_file, 'w', encoding='utf-8') as file:
    file.write(shacl_shapes)

print(f'SHACL shapes saved to {shacl_file}')
